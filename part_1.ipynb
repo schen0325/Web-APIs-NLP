{
 "cells": [
  {
   "cell_type": "markdown",
   "id": "fa2e9902-148d-478f-a9e1-888639e7cc5e",
   "metadata": {},
   "source": [
    "# Project 3 : Web APIs & NLP"
   ]
  },
  {
   "cell_type": "markdown",
   "id": "df0d9ec1-6cf2-409e-a5da-5cb9d94a9533",
   "metadata": {},
   "source": [
    "## 1. Gathering Data"
   ]
  },
  {
   "cell_type": "markdown",
   "id": "1ae83188-8243-4b7b-8908-306351deb9b1",
   "metadata": {},
   "source": [
    "## Problem Statement"
   ]
  },
  {
   "cell_type": "markdown",
   "id": "f9c569e1-1936-4f18-aa2f-7d736baef031",
   "metadata": {},
   "source": [
    "This project seeks to predict the correct subreddit origin of a given post by utilizing text collected from two different subreddits. The two subreddits chosen for this project are DC comics and Marvel. "
   ]
  },
  {
   "cell_type": "code",
   "execution_count": 1,
   "id": "686ee0e0-06f0-4e5e-8d72-7d56651003f4",
   "metadata": {},
   "outputs": [],
   "source": [
    "# Imports: \n",
    "import pandas as pd\n",
    "import requests\n",
    "import time"
   ]
  },
  {
   "cell_type": "markdown",
   "id": "1edc069e-66ea-4fd6-9efe-8e1aa2e2db29",
   "metadata": {},
   "source": [
    "## Collect posts from two subreddits using Pushshift's API:"
   ]
  },
  {
   "cell_type": "code",
   "execution_count": 2,
   "id": "fd6a3d35-b1c5-42cc-8862-fca112efc0e0",
   "metadata": {},
   "outputs": [],
   "source": [
    "def get_subreddit_posts(subreddit):\n",
    "    \n",
    "    '''A function that takes in the name of the subreddit and return most recent 10,000 submissions''' \n",
    "    \n",
    "    \n",
    "    pull_times = 100 # pull 100 times to get 10,000 posts\n",
    "    before = None # no before parameter for the first pull\n",
    "    posts = []\n",
    "    subreddit_name = []\n",
    "    time_created = []\n",
    "    \n",
    "    # runs through loop until 10,000 posts pulled\n",
    "    while pull_times != 0:    \n",
    "        \n",
    "        url = 'https://api.pushshift.io/reddit/search/submission/?subreddit=' + subreddit\n",
    "        params = {'size': 100, # maximum posts per request \n",
    "             'before': before} # pull posts befor this time given \n",
    "        res = requests.get(url,params)\n",
    "        data = res.json()\n",
    "        submissions = data['data']\n",
    "        \n",
    "        for submission in submissions:\n",
    "            post = submission['title']\n",
    "            sub = submission['subreddit']\n",
    "            utc = submission['created_utc']\n",
    "            time_created.append(utc)\n",
    "            posts.append(post)\n",
    "            subreddit_name.append(sub)\n",
    "            before = time_created[-1]\n",
    "            \n",
    "        pull_times-= 1 # subtracts by 1 each time through loop   \n",
    "        time.sleep(1) # pauses for a second after each request \n",
    "        \n",
    "        dataframe = pd.DataFrame(list(zip(posts, subreddit_name)), #combine into dataset\n",
    "                               columns =['title', 'subreddit'])\n",
    "    \n",
    "    return dataframe"
   ]
  },
  {
   "cell_type": "markdown",
   "id": "35b92049-0a44-4342-8671-7f30d8eb6d94",
   "metadata": {},
   "source": [
    "### DC Comics"
   ]
  },
  {
   "cell_type": "code",
   "execution_count": 3,
   "id": "5b3ec183-a3a4-44fd-85ce-b334eae1b0c8",
   "metadata": {},
   "outputs": [],
   "source": [
    "# pull submissions for DC comics\n",
    "dc = get_subreddit_posts('DCcomics')"
   ]
  },
  {
   "cell_type": "markdown",
   "id": "5d32d94f-c407-4f59-b08e-0792a65b9b1a",
   "metadata": {},
   "source": [
    "### Marvel"
   ]
  },
  {
   "cell_type": "code",
   "execution_count": 4,
   "id": "3a3c7533-411a-47b8-a5d1-371279aa1983",
   "metadata": {},
   "outputs": [],
   "source": [
    "# pull submissions for Marvel \n",
    "marvel = get_subreddit_posts('Marvel')"
   ]
  },
  {
   "cell_type": "markdown",
   "id": "8b7de869-ce16-4172-a087-427f852b173a",
   "metadata": {},
   "source": [
    "### Combine datasets and Save as csv"
   ]
  },
  {
   "cell_type": "code",
   "execution_count": 5,
   "id": "89058d4c-f655-4421-8198-a5366eb35ca6",
   "metadata": {},
   "outputs": [],
   "source": [
    "subreddit_posts = dc.append(marvel)\n",
    "subreddit_posts.to_csv('data/subreddit_data.csv', index = False)"
   ]
  }
 ],
 "metadata": {
  "kernelspec": {
   "display_name": "Python [conda env:newdsi-111] *",
   "language": "python",
   "name": "conda-env-newdsi-111-py"
  },
  "language_info": {
   "codemirror_mode": {
    "name": "ipython",
    "version": 3
   },
   "file_extension": ".py",
   "mimetype": "text/x-python",
   "name": "python",
   "nbconvert_exporter": "python",
   "pygments_lexer": "ipython3",
   "version": "3.9.7"
  }
 },
 "nbformat": 4,
 "nbformat_minor": 5
}
