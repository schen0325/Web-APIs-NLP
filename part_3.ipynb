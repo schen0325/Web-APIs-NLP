{
 "cells": [
  {
   "cell_type": "markdown",
   "id": "248f552d-7a0b-4a44-945a-162d20d4a2ed",
   "metadata": {},
   "source": [
    "# Project 3 : Web APIs & NLP"
   ]
  },
  {
   "cell_type": "markdown",
   "id": "8931340d-fd3b-48c4-a177-fba72b7b64ec",
   "metadata": {},
   "source": [
    "## 3. Modeling and Evaluation"
   ]
  },
  {
   "cell_type": "code",
   "execution_count": 1,
   "id": "b01be8b0-0f6d-46a2-a25f-1dc31f26631c",
   "metadata": {},
   "outputs": [],
   "source": [
    "# Imports \n",
    "import pandas as pd\n",
    "\n",
    "from sklearn.feature_extraction.text import CountVectorizer, TfidfVectorizer\n",
    "from sklearn.model_selection import train_test_split, GridSearchCV\n",
    "from sklearn.ensemble import ExtraTreesClassifier, RandomForestClassifier\n",
    "from sklearn.naive_bayes import MultinomialNB, BernoulliNB\n",
    "from sklearn.pipeline import Pipeline\n",
    "from sklearn.metrics import confusion_matrix, accuracy_score, ConfusionMatrixDisplay\n",
    "\n",
    "import matplotlib.pyplot as plt"
   ]
  },
  {
   "cell_type": "code",
   "execution_count": 2,
   "id": "56203c9d-3ade-46e0-b860-4db6eb4c4330",
   "metadata": {},
   "outputs": [
    {
     "data": {
      "text/html": [
       "<div>\n",
       "<style scoped>\n",
       "    .dataframe tbody tr th:only-of-type {\n",
       "        vertical-align: middle;\n",
       "    }\n",
       "\n",
       "    .dataframe tbody tr th {\n",
       "        vertical-align: top;\n",
       "    }\n",
       "\n",
       "    .dataframe thead th {\n",
       "        text-align: right;\n",
       "    }\n",
       "</style>\n",
       "<table border=\"1\" class=\"dataframe\">\n",
       "  <thead>\n",
       "    <tr style=\"text-align: right;\">\n",
       "      <th></th>\n",
       "      <th>title</th>\n",
       "      <th>subreddit</th>\n",
       "    </tr>\n",
       "  </thead>\n",
       "  <tbody>\n",
       "    <tr>\n",
       "      <th>0</th>\n",
       "      <td>please watch new series put youtube tell think...</td>\n",
       "      <td>0</td>\n",
       "    </tr>\n",
       "    <tr>\n",
       "      <th>1</th>\n",
       "      <td>martian manhunter movie</td>\n",
       "      <td>0</td>\n",
       "    </tr>\n",
       "    <tr>\n",
       "      <th>2</th>\n",
       "      <td>concerned understatement</td>\n",
       "      <td>0</td>\n",
       "    </tr>\n",
       "    <tr>\n",
       "      <th>3</th>\n",
       "      <td>witty wife solved batman ultimate riddle</td>\n",
       "      <td>0</td>\n",
       "    </tr>\n",
       "    <tr>\n",
       "      <th>4</th>\n",
       "      <td>powerful chaos lord emotional spectrum</td>\n",
       "      <td>0</td>\n",
       "    </tr>\n",
       "  </tbody>\n",
       "</table>\n",
       "</div>"
      ],
      "text/plain": [
       "                                               title  subreddit\n",
       "0  please watch new series put youtube tell think...          0\n",
       "1                            martian manhunter movie          0\n",
       "2                           concerned understatement          0\n",
       "3           witty wife solved batman ultimate riddle          0\n",
       "4             powerful chaos lord emotional spectrum          0"
      ]
     },
     "execution_count": 2,
     "metadata": {},
     "output_type": "execute_result"
    }
   ],
   "source": [
    "# Read in cleaned data\n",
    "data = pd.read_csv('data/cleaned_subreddit_data.csv')\n",
    "data.head()"
   ]
  },
  {
   "cell_type": "code",
   "execution_count": 3,
   "id": "c9ea6d15-a478-4e0b-992e-672f672e3b3f",
   "metadata": {},
   "outputs": [
    {
     "data": {
      "text/plain": [
       "(18827, 2)"
      ]
     },
     "execution_count": 3,
     "metadata": {},
     "output_type": "execute_result"
    }
   ],
   "source": [
    "data.shape"
   ]
  },
  {
   "cell_type": "markdown",
   "id": "ae4d928d-2db1-42ef-828d-c7f80462668d",
   "metadata": {},
   "source": [
    "### Train Test Split"
   ]
  },
  {
   "cell_type": "code",
   "execution_count": 4,
   "id": "9e35eb4c-5af6-4553-89b2-f256de79ca56",
   "metadata": {},
   "outputs": [],
   "source": [
    "X = data['title']\n",
    "y = data['subreddit']\n",
    "X_train,X_test,y_train,y_test = train_test_split(X, y, random_state=42, stratify=y)"
   ]
  },
  {
   "cell_type": "code",
   "execution_count": 5,
   "id": "904862d0-a70c-4c73-9e39-69e9120df124",
   "metadata": {},
   "outputs": [
    {
     "data": {
      "text/plain": [
       "1    0.500425\n",
       "0    0.499575\n",
       "Name: subreddit, dtype: float64"
      ]
     },
     "execution_count": 5,
     "metadata": {},
     "output_type": "execute_result"
    }
   ],
   "source": [
    "# Baseline accuracy score\n",
    "y_train.value_counts(normalize = True)"
   ]
  },
  {
   "cell_type": "markdown",
   "id": "f7e4db11-3f63-408b-9138-c8778844937f",
   "metadata": {},
   "source": [
    "### Naïve Bayes"
   ]
  },
  {
   "cell_type": "markdown",
   "id": "caa0d34e-0ea2-4851-ba97-2113e21bb7fd",
   "metadata": {},
   "source": [
    "##### CountVectorizer and Multinomial Naive Bayes"
   ]
  },
  {
   "cell_type": "code",
   "execution_count": 6,
   "id": "81728514-83c7-4b41-aa68-60cc4e5ad52e",
   "metadata": {},
   "outputs": [
    {
     "name": "stdout",
     "output_type": "stream",
     "text": [
      "Training Score: 0.9471671388101983\n",
      "Testing Score: 0.9088591459528362\n"
     ]
    }
   ],
   "source": [
    "# Set a pipeline:\n",
    "# 1. CountVectorizer\n",
    "# 2. Multinomial Naive Bayes\n",
    "pipe_cvec_nb = Pipeline([\n",
    "    ('cvec', CountVectorizer()),\n",
    "    ('nb', MultinomialNB())\n",
    "])\n",
    "\n",
    "# Fit pipeline\n",
    "pipe_cvec_nb.fit(X_train, y_train)\n",
    "\n",
    "print(f'Training Score: {pipe_cvec_nb.score(X_train, y_train)}')\n",
    "print(f'Testing Score: {pipe_cvec_nb.score(X_test, y_test)}')"
   ]
  },
  {
   "cell_type": "code",
   "execution_count": 7,
   "id": "f891c089-db4d-47b8-a88b-9bb8bc2502e6",
   "metadata": {},
   "outputs": [
    {
     "data": {
      "text/plain": [
       "GridSearchCV(cv=5,\n",
       "             estimator=Pipeline(steps=[('cvec', CountVectorizer()),\n",
       "                                       ('nb', MultinomialNB())]),\n",
       "             n_jobs=-1,\n",
       "             param_grid={'cvec__max_df': [0.7, 0.8, 0.9, 0.95],\n",
       "                         'cvec__max_features': [2000, 3000, 4000, 5000],\n",
       "                         'cvec__min_df': [0, 1, 2],\n",
       "                         'cvec__ngram_range': [(1, 1), (1, 2), (1, 3)]})"
      ]
     },
     "execution_count": 7,
     "metadata": {},
     "output_type": "execute_result"
    }
   ],
   "source": [
    "# Search over the following values of hyperparameters:\n",
    "pipe_cvec_nb_params = {\n",
    "    'cvec__max_features': [2_000, 3_000, 4_000, 5_000],\n",
    "    'cvec__min_df': [0, 1, 2],\n",
    "    'cvec__max_df': [0.7, 0.8, .9, .95],\n",
    "    'cvec__ngram_range': [(1,1), (1,2), (1,3)],\n",
    "}\n",
    "\n",
    "# Instantiate GridSearchCV.\n",
    "gs_cvec_nb = GridSearchCV(pipe_cvec_nb, \n",
    "                  param_grid=pipe_cvec_nb_params, \n",
    "                  cv=5, \n",
    "                  n_jobs=-1)\n",
    "\n",
    "# Fit GridSearch to training data.\n",
    "gs_cvec_nb.fit(X_train, y_train)"
   ]
  },
  {
   "cell_type": "code",
   "execution_count": 8,
   "id": "de41dc00-dbba-4d87-a35a-3c23c4ccfde1",
   "metadata": {},
   "outputs": [
    {
     "name": "stdout",
     "output_type": "stream",
     "text": [
      "Best Hyperparameters: {'cvec__max_df': 0.7, 'cvec__max_features': 5000, 'cvec__min_df': 0, 'cvec__ngram_range': (1, 2)}\n",
      "Best Score: 0.9032577903682719\n",
      "Training Score: 0.9296033994334277\n",
      "Testing Score: 0.9071595496069683\n"
     ]
    }
   ],
   "source": [
    "# Best hyperparameters and best score\n",
    "print(f'Best Hyperparameters: {gs_cvec_nb.best_params_}')\n",
    "print(f'Best Score: {gs_cvec_nb.best_score_}')\n",
    "\n",
    "# Score on training set and testing set\n",
    "print(f'Training Score: {gs_cvec_nb.score(X_train, y_train)}')\n",
    "print(f'Testing Score: {gs_cvec_nb.score(X_test, y_test)}')"
   ]
  },
  {
   "cell_type": "markdown",
   "id": "2fbf0b55-94e4-4a09-a984-4a011e6033ac",
   "metadata": {},
   "source": [
    "##### TfidfVectorizer and Multinomial Naive Bayes"
   ]
  },
  {
   "cell_type": "code",
   "execution_count": 9,
   "id": "e1f361b7-99d7-40f8-be32-8963ae91e4fc",
   "metadata": {},
   "outputs": [
    {
     "name": "stdout",
     "output_type": "stream",
     "text": [
      "Training Score: 0.9497875354107649\n",
      "Testing Score: 0.9039728064584661\n"
     ]
    }
   ],
   "source": [
    "# Set a pipeline:\n",
    "# 1. tf-idf vectorizer\n",
    "# 2. multinomial naive bayes\n",
    "\n",
    "pipe_tvec_nb = Pipeline([\n",
    "    ('tvec', TfidfVectorizer()),\n",
    "    ('nb', MultinomialNB())\n",
    "])\n",
    "\n",
    "# Fit pipeline\n",
    "pipe_tvec_nb.fit(X_train, y_train)\n",
    "\n",
    "print(f'Training Score: {pipe_tvec_nb.score(X_train, y_train)}')\n",
    "print(f'Testing Score: {pipe_tvec_nb.score(X_test, y_test)}')"
   ]
  },
  {
   "cell_type": "code",
   "execution_count": 10,
   "id": "878670d2-8753-4630-acf2-9acd331c5706",
   "metadata": {},
   "outputs": [
    {
     "data": {
      "text/plain": [
       "GridSearchCV(cv=5,\n",
       "             estimator=Pipeline(steps=[('tvec', TfidfVectorizer()),\n",
       "                                       ('nb', MultinomialNB())]),\n",
       "             n_jobs=-1,\n",
       "             param_grid={'tvec__max_df': [0.7, 0.8, 0.9, 0.95],\n",
       "                         'tvec__max_features': [2000, 3000, 4000, 5000],\n",
       "                         'tvec__min_df': [0, 1, 2],\n",
       "                         'tvec__ngram_range': [(1, 1), (1, 2), (1, 3)]})"
      ]
     },
     "execution_count": 10,
     "metadata": {},
     "output_type": "execute_result"
    }
   ],
   "source": [
    "# Search over the following values of hyperparameters:\n",
    "pipe_tvec_nb_params = {\n",
    "    'tvec__max_features': [2_000, 3_000, 4_000, 5_000],\n",
    "    'tvec__min_df': [0, 1, 2],\n",
    "    'tvec__max_df': [0.7, 0.8, .9, .95],\n",
    "    'tvec__ngram_range': [(1,1), (1,2), (1,3)]\n",
    "}\n",
    "\n",
    "# Instantiate GridSearchCV\n",
    "gs_tvec_nb = GridSearchCV(pipe_tvec_nb, \n",
    "                        param_grid = pipe_tvec_nb_params, \n",
    "                        cv=5, \n",
    "                        n_jobs=-1)\n",
    "\n",
    "# Fit GridSearch to training data\n",
    "gs_tvec_nb.fit(X_train, y_train)"
   ]
  },
  {
   "cell_type": "code",
   "execution_count": 11,
   "id": "19b7a7ef-db8c-46aa-90f4-daa7275e17e9",
   "metadata": {},
   "outputs": [
    {
     "name": "stdout",
     "output_type": "stream",
     "text": [
      "Best Hyperparameters: {'tvec__max_df': 0.7, 'tvec__max_features': 5000, 'tvec__min_df': 0, 'tvec__ngram_range': (1, 2)}\n",
      "Best Score: 0.9025495750708215\n",
      "Training Score: 0.9339235127478753\n",
      "Testing Score: 0.9037603569152326\n"
     ]
    }
   ],
   "source": [
    "# Best hyperparameters and best score\n",
    "print(f'Best Hyperparameters: {gs_tvec_nb.best_params_}')\n",
    "print(f'Best Score: {gs_tvec_nb.best_score_}')\n",
    "\n",
    "# Score on training set and testing set\n",
    "print(f'Training Score: {gs_tvec_nb.score(X_train, y_train)}')\n",
    "print(f'Testing Score: {gs_tvec_nb.score(X_test, y_test)}')"
   ]
  },
  {
   "cell_type": "markdown",
   "id": "69dd12bc-89c0-41c0-94c6-47c812215825",
   "metadata": {},
   "source": [
    "##### CountVectorizer and Bernoulli Naive Bayes"
   ]
  },
  {
   "cell_type": "code",
   "execution_count": 12,
   "id": "632dbcd0-0b89-4205-bfdc-a1c9f06418b7",
   "metadata": {},
   "outputs": [
    {
     "name": "stdout",
     "output_type": "stream",
     "text": [
      "Training Score: 0.9469546742209631\n",
      "Testing Score: 0.9124707881878054\n"
     ]
    }
   ],
   "source": [
    "# Set a pipeline:\n",
    "# 1. CountVectorizer\n",
    "# 2. Bernoulli Naive Bayes\n",
    "pipe_cvec_bnb = Pipeline([\n",
    "    ('cvec', CountVectorizer()),\n",
    "    ('bnb', BernoulliNB())\n",
    "])\n",
    "\n",
    "# fit pipeline \n",
    "pipe_cvec_bnb.fit(X_train, y_train)\n",
    "\n",
    "print(f'Training Score: {pipe_cvec_bnb.score(X_train, y_train)}')\n",
    "print(f'Testing Score: {pipe_cvec_bnb.score(X_test, y_test)}')"
   ]
  },
  {
   "cell_type": "code",
   "execution_count": 13,
   "id": "14abf684-3f91-42ab-ad07-7591ded1701f",
   "metadata": {},
   "outputs": [
    {
     "data": {
      "text/plain": [
       "GridSearchCV(cv=5,\n",
       "             estimator=Pipeline(steps=[('cvec', CountVectorizer()),\n",
       "                                       ('bnb', BernoulliNB())]),\n",
       "             n_jobs=-1,\n",
       "             param_grid={'cvec__max_df': [0.7, 0.8, 0.9, 0.95],\n",
       "                         'cvec__max_features': [2000, 3000, 4000, 5000],\n",
       "                         'cvec__min_df': [0, 1, 2],\n",
       "                         'cvec__ngram_range': [(1, 1), (1, 2), (1, 3)]})"
      ]
     },
     "execution_count": 13,
     "metadata": {},
     "output_type": "execute_result"
    }
   ],
   "source": [
    "# Search over the following values of hyperparameters:\n",
    "pipe_cvec_bnb_params = {\n",
    "    'cvec__max_features': [2_000, 3_000, 4_000, 5_000],\n",
    "    'cvec__min_df': [0, 1, 2],\n",
    "    'cvec__max_df': [0.7, 0.8, .9, .95],\n",
    "    'cvec__ngram_range': [(1,1), (1,2), (1,3)],\n",
    "}\n",
    "\n",
    "# Instantiate GridSearchCV.\n",
    "gs_cvec_bnb = GridSearchCV(pipe_cvec_bnb, \n",
    "                  param_grid=pipe_cvec_bnb_params, \n",
    "                  cv=5, \n",
    "                  n_jobs=-1)\n",
    "\n",
    "# Fit GridSearch to training data.\n",
    "gs_cvec_bnb.fit(X_train, y_train)"
   ]
  },
  {
   "cell_type": "code",
   "execution_count": 14,
   "id": "8805ce0e-a3d3-444e-b1eb-33b833390d6b",
   "metadata": {},
   "outputs": [
    {
     "name": "stdout",
     "output_type": "stream",
     "text": [
      "Best Hyperparameters: {'cvec__max_df': 0.7, 'cvec__max_features': 5000, 'cvec__min_df': 0, 'cvec__ngram_range': (1, 2)}\n",
      "Best Score: 0.9069405099150142\n",
      "Training Score: 0.9310198300283287\n",
      "Testing Score: 0.9080093477799023\n"
     ]
    }
   ],
   "source": [
    "# Best hyperparameters and best score\n",
    "print(f'Best Hyperparameters: {gs_cvec_bnb.best_params_}')\n",
    "print(f'Best Score: {gs_cvec_bnb.best_score_}')\n",
    "\n",
    "# Score on training set and testing set\n",
    "print(f'Training Score: {gs_cvec_bnb.score(X_train, y_train)}')\n",
    "print(f'Testing Score: {gs_cvec_bnb.score(X_test, y_test)}')"
   ]
  },
  {
   "cell_type": "markdown",
   "id": "5a7aef2f-fa3b-41ab-9f79-920a73af8b90",
   "metadata": {
    "tags": []
   },
   "source": [
    "##### TfidfVectorizer and Bernoulli Naive Bayes"
   ]
  },
  {
   "cell_type": "code",
   "execution_count": 15,
   "id": "ec957e4e-31a9-4d51-a626-96fe30720ba0",
   "metadata": {},
   "outputs": [
    {
     "name": "stdout",
     "output_type": "stream",
     "text": [
      "Training Score: 0.9469546742209631\n",
      "Testing Score: 0.9124707881878054\n"
     ]
    }
   ],
   "source": [
    "# Set a pipeline:\n",
    "# 1. tf-idf vectorizer\n",
    "# 2. bernoulli naive bayes\n",
    "pipe_tvec_bnb = Pipeline([\n",
    "    ('tvec', TfidfVectorizer()),\n",
    "    ('bnb', BernoulliNB())\n",
    "])\n",
    "\n",
    "# Fit pipeline \n",
    "pipe_tvec_bnb.fit(X_train, y_train)\n",
    "\n",
    "print(f'Training Score: {pipe_tvec_bnb.score(X_train, y_train)}')\n",
    "print(f'Testing Score: {pipe_tvec_bnb.score(X_test, y_test)}')"
   ]
  },
  {
   "cell_type": "code",
   "execution_count": 16,
   "id": "9040a900-2718-465c-93ec-8739bbd919cd",
   "metadata": {},
   "outputs": [
    {
     "data": {
      "text/plain": [
       "GridSearchCV(cv=5,\n",
       "             estimator=Pipeline(steps=[('tvec', TfidfVectorizer()),\n",
       "                                       ('bnb', BernoulliNB())]),\n",
       "             n_jobs=-1,\n",
       "             param_grid={'tvec__max_df': [0.7, 0.8, 0.9, 0.95],\n",
       "                         'tvec__max_features': [2000, 3000, 4000, 5000],\n",
       "                         'tvec__min_df': [0, 1, 2],\n",
       "                         'tvec__ngram_range': [(1, 1), (1, 2), (1, 3)]})"
      ]
     },
     "execution_count": 16,
     "metadata": {},
     "output_type": "execute_result"
    }
   ],
   "source": [
    "# Search over the following values of hyperparameters:\n",
    "pipe_tvec_bnb_params = {\n",
    "    'tvec__max_features': [2_000, 3_000, 4_000, 5_000],\n",
    "    'tvec__min_df': [0, 1, 2],\n",
    "    'tvec__max_df': [0.7, 0.8, .9, .95],\n",
    "    'tvec__ngram_range': [(1,1), (1,2), (1,3)]\n",
    "}\n",
    "\n",
    "# Instantiate GridSearchCV\n",
    "gs_tvec_bnb = GridSearchCV(pipe_tvec_bnb, \n",
    "                        param_grid = pipe_tvec_bnb_params, \n",
    "                        cv=5, \n",
    "                        n_jobs=-1)\n",
    "\n",
    "# Fit GridSearch to training data\n",
    "gs_tvec_bnb.fit(X_train, y_train)"
   ]
  },
  {
   "cell_type": "code",
   "execution_count": 17,
   "id": "ab71fbb5-63d2-4bbb-ae7c-10405aaf079a",
   "metadata": {},
   "outputs": [
    {
     "name": "stdout",
     "output_type": "stream",
     "text": [
      "Best Hyperparameters: {'tvec__max_df': 0.7, 'tvec__max_features': 5000, 'tvec__min_df': 0, 'tvec__ngram_range': (1, 2)}\n",
      "Best Score: 0.9069405099150142\n",
      "Training Score: 0.9310198300283287\n",
      "Testing Score: 0.9080093477799023\n"
     ]
    }
   ],
   "source": [
    "# Best hyperparameters and best score\n",
    "print(f'Best Hyperparameters: {gs_tvec_bnb.best_params_}')\n",
    "print(f'Best Score: {gs_tvec_bnb.best_score_}')\n",
    "\n",
    "# Score on training set and testing set\n",
    "print(f'Training Score: {gs_tvec_bnb.score(X_train, y_train)}')\n",
    "print(f'Testing Score: {gs_tvec_bnb.score(X_test, y_test)}')"
   ]
  },
  {
   "cell_type": "markdown",
   "id": "1d1b863e-98b5-4b44-9548-8f194f0456a3",
   "metadata": {
    "tags": []
   },
   "source": [
    "### Random Forests vs. ExtraTrees"
   ]
  },
  {
   "cell_type": "markdown",
   "id": "bdbb6530-2d91-4e25-b456-00394f4d17dd",
   "metadata": {},
   "source": [
    "##### CountVectorizer and Random Forests"
   ]
  },
  {
   "cell_type": "code",
   "execution_count": 18,
   "id": "0cf57682-6a64-4a57-953e-ca58aba4436c",
   "metadata": {},
   "outputs": [
    {
     "name": "stdout",
     "output_type": "stream",
     "text": [
      "Training Score: 0.9995750708215297\n",
      "Testing Score: 0.8978117697046951\n"
     ]
    }
   ],
   "source": [
    "# Set a pipeline:\n",
    "# 1. count vectorizer \n",
    "# 2. random forests\n",
    "pipe_rf_cvec = Pipeline([\n",
    "    ('cvec', CountVectorizer()),\n",
    "    ('rf', RandomForestClassifier())\n",
    "])\n",
    "\n",
    "# Fit pipeline\n",
    "pipe_rf_cvec.fit(X_train, y_train)\n",
    "\n",
    "print(f'Training Score: {pipe_rf_cvec.score(X_train, y_train)}')\n",
    "print(f'Testing Score: {pipe_rf_cvec.score(X_test, y_test)}')"
   ]
  },
  {
   "cell_type": "code",
   "execution_count": 19,
   "id": "5f961eb7-3fa1-47d3-99f5-75f249cb0572",
   "metadata": {},
   "outputs": [
    {
     "data": {
      "text/plain": [
       "GridSearchCV(cv=5,\n",
       "             estimator=Pipeline(steps=[('cvec', CountVectorizer()),\n",
       "                                       ('rf', RandomForestClassifier())]),\n",
       "             n_jobs=-1,\n",
       "             param_grid={'rf__max_depth': [None, 1, 2, 3, 4, 5],\n",
       "                         'rf__n_estimators': [100, 150, 200, 250]})"
      ]
     },
     "execution_count": 19,
     "metadata": {},
     "output_type": "execute_result"
    }
   ],
   "source": [
    "# Search over the following values of hyperparameters:\n",
    "pipe_rf_cvec_params = {\n",
    "    'rf__n_estimators': [100, 150, 200, 250],\n",
    "    'rf__max_depth': [None, 1, 2, 3, 4, 5],\n",
    "}\n",
    "\n",
    "# Instantiate GridSearchCV.\n",
    "gs_rf_cvec = GridSearchCV(pipe_rf_cvec,\n",
    "                        param_grid = pipe_rf_cvec_params, \n",
    "                        cv=5, \n",
    "                        n_jobs=-1)\n",
    "\n",
    "# Fit GridSearch to training data\n",
    "gs_rf_cvec.fit(X_train, y_train)"
   ]
  },
  {
   "cell_type": "code",
   "execution_count": 20,
   "id": "a3462d37-eb16-4826-b529-05367d7e0a0a",
   "metadata": {},
   "outputs": [
    {
     "name": "stdout",
     "output_type": "stream",
     "text": [
      "Best Hyperparameters: {'rf__max_depth': None, 'rf__n_estimators': 150}\n",
      "Best Score: 0.8953966005665721\n",
      "Training Score: 0.9996458923512748\n",
      "Testing Score: 0.8973868706182282\n"
     ]
    }
   ],
   "source": [
    "# Best hyperparameters and best score\n",
    "print(f'Best Hyperparameters: {gs_rf_cvec.best_params_}')\n",
    "print(f'Best Score: {gs_rf_cvec.best_score_}')\n",
    "\n",
    "# Score on training set and testing set\n",
    "print(f'Training Score: {gs_rf_cvec.score(X_train, y_train)}')\n",
    "print(f'Testing Score: {gs_rf_cvec.score(X_test, y_test)}')"
   ]
  },
  {
   "cell_type": "markdown",
   "id": "9f0a917e-dc30-4996-8815-0bb8ce5fe866",
   "metadata": {},
   "source": [
    "##### TfidfVectorizer and Random Forests"
   ]
  },
  {
   "cell_type": "code",
   "execution_count": 21,
   "id": "0f616d59-3836-41b2-966c-f28b6330a0e3",
   "metadata": {},
   "outputs": [
    {
     "name": "stdout",
     "output_type": "stream",
     "text": [
      "Training Score: 0.9996458923512748\n",
      "Testing Score: 0.899511366050563\n"
     ]
    }
   ],
   "source": [
    "# Set a pipeline:\n",
    "# 1. Tfidf vectorizer \n",
    "# 2. random forests\n",
    "pipe_rf_tvec = Pipeline([\n",
    "    ('tvec', TfidfVectorizer()),\n",
    "    ('rf', RandomForestClassifier())\n",
    "])\n",
    "\n",
    "#Fit pipeline\n",
    "pipe_rf_tvec.fit(X_train, y_train)\n",
    "\n",
    "print(f'Training Score: {pipe_rf_tvec.score(X_train, y_train)}')\n",
    "print(f'Testing Score: {pipe_rf_tvec.score(X_test, y_test)}')"
   ]
  },
  {
   "cell_type": "code",
   "execution_count": 22,
   "id": "69c96744-a7ec-4789-adc7-dfa9cab9f819",
   "metadata": {},
   "outputs": [
    {
     "data": {
      "text/plain": [
       "GridSearchCV(cv=5,\n",
       "             estimator=Pipeline(steps=[('tvec', TfidfVectorizer()),\n",
       "                                       ('rf', RandomForestClassifier())]),\n",
       "             n_jobs=-1,\n",
       "             param_grid={'rf__max_depth': [None, 1, 2, 3, 4, 5],\n",
       "                         'rf__n_estimators': [100, 150, 200, 250]})"
      ]
     },
     "execution_count": 22,
     "metadata": {},
     "output_type": "execute_result"
    }
   ],
   "source": [
    "# Search over the following values of hyperparameters:\n",
    "pipe_rf_tvec_params = {\n",
    "    'rf__n_estimators': [100, 150, 200, 250],\n",
    "    'rf__max_depth': [None, 1, 2, 3, 4, 5],\n",
    "\n",
    "}\n",
    "\n",
    "# Instantiate GridSearchCV.\n",
    "gs_rf_tvec = GridSearchCV(pipe_rf_tvec,\n",
    "                        param_grid = pipe_rf_tvec_params, \n",
    "                        cv=5, \n",
    "                        n_jobs=-1)\n",
    "\n",
    "# Fit GridSearch to training data\n",
    "gs_rf_tvec.fit(X_train, y_train)"
   ]
  },
  {
   "cell_type": "code",
   "execution_count": 23,
   "id": "26bdaaac-c421-44b3-ab58-14d230f40c75",
   "metadata": {},
   "outputs": [
    {
     "name": "stdout",
     "output_type": "stream",
     "text": [
      "Best Hyperparameters: {'rf__max_depth': None, 'rf__n_estimators': 100}\n",
      "Best Score: 0.8996458923512748\n",
      "Training Score: 0.9996458923512748\n",
      "Testing Score: 0.8988740174208626\n"
     ]
    }
   ],
   "source": [
    "# Best hyperparameters and best score\n",
    "print(f'Best Hyperparameters: {gs_rf_tvec.best_params_}')\n",
    "print(f'Best Score: {gs_rf_tvec.best_score_}')\n",
    "\n",
    "# Score on training set and testing set\n",
    "print(f'Training Score: {gs_rf_tvec.score(X_train, y_train)}')\n",
    "print(f'Testing Score: {gs_rf_tvec.score(X_test, y_test)}')"
   ]
  },
  {
   "cell_type": "markdown",
   "id": "b8050893-0fa1-4472-bd88-1917c40fde04",
   "metadata": {},
   "source": [
    "##### ExtraTrees"
   ]
  },
  {
   "cell_type": "code",
   "execution_count": 24,
   "id": "ca685eb1-d613-483d-8054-6c8aff8ebb4d",
   "metadata": {},
   "outputs": [
    {
     "name": "stdout",
     "output_type": "stream",
     "text": [
      "Training Score: 0.9996458923512748\n",
      "Testing Score: 0.8986615678776291\n"
     ]
    }
   ],
   "source": [
    "# Set a pipeline:\n",
    "# 1. count vectorizer \n",
    "# 2. extratrees\n",
    "pipe_et_cvec = Pipeline([\n",
    "    ('cvec', CountVectorizer()),\n",
    "    ('et', ExtraTreesClassifier())\n",
    "])\n",
    "\n",
    "# Fit pipeline\n",
    "pipe_et_cvec.fit(X_train, y_train)\n",
    "\n",
    "print(f'Training Score: {pipe_et_cvec.score(X_train, y_train)}')\n",
    "print(f'Testing Score: {pipe_et_cvec.score(X_test, y_test)}')"
   ]
  },
  {
   "cell_type": "code",
   "execution_count": 25,
   "id": "0ff23a48-eba4-49ff-91dc-5c24a53247be",
   "metadata": {},
   "outputs": [
    {
     "data": {
      "text/plain": [
       "GridSearchCV(cv=5,\n",
       "             estimator=Pipeline(steps=[('cvec', CountVectorizer()),\n",
       "                                       ('et', ExtraTreesClassifier())]),\n",
       "             n_jobs=-1,\n",
       "             param_grid={'et__max_depth': [None, 1, 2, 3, 4, 5],\n",
       "                         'et__n_estimators': [100, 150, 200, 250]})"
      ]
     },
     "execution_count": 25,
     "metadata": {},
     "output_type": "execute_result"
    }
   ],
   "source": [
    "# Search over the following values of hyperparameters:\n",
    "pipe_et_cvec_params = {\n",
    "    'et__n_estimators': [100, 150, 200, 250],\n",
    "    'et__max_depth': [None, 1, 2, 3, 4, 5],\n",
    "}\n",
    "\n",
    "# Instantiate GridSearchCV\n",
    "gs_et_cvec = GridSearchCV(pipe_et_cvec, \n",
    "                        param_grid = pipe_et_cvec_params, \n",
    "                        cv=5, \n",
    "                        n_jobs=-1)\n",
    "\n",
    "# Fit GridSearch to training data\n",
    "gs_et_cvec.fit(X_train, y_train)"
   ]
  },
  {
   "cell_type": "code",
   "execution_count": 26,
   "id": "9776f906-f10e-4067-8e0b-14c230c48188",
   "metadata": {},
   "outputs": [
    {
     "name": "stdout",
     "output_type": "stream",
     "text": [
      "Best Hyperparameters: {'et__max_depth': None, 'et__n_estimators': 250}\n",
      "Best Score: 0.896742209631728\n",
      "Training Score: 0.9996458923512748\n",
      "Testing Score: 0.8982366687911622\n"
     ]
    }
   ],
   "source": [
    "# Best hyperparameters and best score\n",
    "print(f'Best Hyperparameters: {gs_et_cvec.best_params_}')\n",
    "print(f'Best Score: {gs_et_cvec.best_score_}')\n",
    "\n",
    "# Score on training set and testing set\n",
    "print(f'Training Score: {gs_et_cvec.score(X_train, y_train)}')\n",
    "print(f'Testing Score: {gs_et_cvec.score(X_test, y_test)}')"
   ]
  },
  {
   "cell_type": "markdown",
   "id": "98c76795-78a5-4f24-a691-21979f8b162b",
   "metadata": {},
   "source": [
    "##### TfidfVectorizer and ExtraTrees"
   ]
  },
  {
   "cell_type": "code",
   "execution_count": 27,
   "id": "8d77d822-7163-4c00-81c2-9ccea3a43078",
   "metadata": {},
   "outputs": [
    {
     "name": "stdout",
     "output_type": "stream",
     "text": [
      "Training Score: 0.9996458923512748\n",
      "Testing Score: 0.9063097514340345\n"
     ]
    }
   ],
   "source": [
    "# Set a pipeline:\n",
    "# 1. Tfidf vectorizer \n",
    "# 2. extratrees\n",
    "pipe_et_tvec = Pipeline([\n",
    "    ('tvec', TfidfVectorizer()),\n",
    "    ('et', ExtraTreesClassifier())\n",
    "])\n",
    "\n",
    "# Fit pipeline\n",
    "pipe_et_tvec.fit(X_train, y_train)\n",
    "\n",
    "print(f'Training Score: {pipe_et_tvec.score(X_train, y_train)}')\n",
    "print(f'Testing Score: {pipe_et_tvec.score(X_test, y_test)}')"
   ]
  },
  {
   "cell_type": "code",
   "execution_count": 28,
   "id": "ffbfb15f-e98d-4cba-a6ea-8c8eb73d92be",
   "metadata": {},
   "outputs": [
    {
     "data": {
      "text/plain": [
       "GridSearchCV(cv=5,\n",
       "             estimator=Pipeline(steps=[('tvec', TfidfVectorizer()),\n",
       "                                       ('et', ExtraTreesClassifier())]),\n",
       "             n_jobs=-1,\n",
       "             param_grid={'et__max_depth': [None, 1, 2, 3, 4, 5],\n",
       "                         'et__n_estimators': [100, 150, 200, 250]})"
      ]
     },
     "execution_count": 28,
     "metadata": {},
     "output_type": "execute_result"
    }
   ],
   "source": [
    "# Search over the following values of hyperparameters:\n",
    "pipe_et_tvec_params = {\n",
    "    'et__n_estimators': [100, 150, 200, 250],\n",
    "    'et__max_depth': [None, 1, 2, 3, 4, 5],\n",
    "}\n",
    "\n",
    "# Instantiate GridSearchCV.\n",
    "gs_et_tvec = GridSearchCV(pipe_et_tvec,\n",
    "                        param_grid = pipe_et_tvec_params, \n",
    "                        cv=5, \n",
    "                        n_jobs=-1)\n",
    "\n",
    "# Fit GridSearch to training data\n",
    "gs_et_tvec.fit(X_train, y_train)"
   ]
  },
  {
   "cell_type": "code",
   "execution_count": 29,
   "id": "7dbed8cf-34b0-453c-8b7d-e9e2259968e1",
   "metadata": {},
   "outputs": [
    {
     "name": "stdout",
     "output_type": "stream",
     "text": [
      "Best Hyperparameters: {'et__max_depth': None, 'et__n_estimators': 150}\n",
      "Best Score: 0.9067988668555241\n",
      "Training Score: 0.9996458923512748\n",
      "Testing Score: 0.9054599532611005\n"
     ]
    }
   ],
   "source": [
    "# Best hyperparameters and best score\n",
    "print(f'Best Hyperparameters: {gs_et_tvec.best_params_}')\n",
    "print(f'Best Score: {gs_et_tvec.best_score_}')\n",
    "\n",
    "# Score on training set and testing set\n",
    "print(f'Training Score: {gs_et_tvec.score(X_train, y_train)}')\n",
    "print(f'Testing Score: {gs_et_tvec.score(X_test, y_test)}')"
   ]
  },
  {
   "cell_type": "markdown",
   "id": "68f85b45-ba41-4975-9b0c-60d11b11b746",
   "metadata": {},
   "source": [
    "### Evaluation"
   ]
  },
  {
   "cell_type": "markdown",
   "id": "b81eac68-deb8-40fb-9a7f-f0ebb3ad04ba",
   "metadata": {},
   "source": [
    "| Model                                                          | Training Score | Testing Score |\n",
    "|----------------------------------------------------------------|----------------|---------------|\n",
    "| CountVectorizer Multinomial Naive Bayes   w/ default parameter | 0.9472         | 0.9089        |\n",
    "| CountVectorizer Multinomial Naive Bayes w/ GridSearch          | 0.9296         | 0.9072        |\n",
    "| TfidfVectorizer Multinomial Naive Bayes w/ default parameters  | 0.9500         | 0.9040        |\n",
    "| TfidfVectorizer Multinomial Naive Bayes w/ GridSearch          | 0.9340         | 0.9034        |\n",
    "| CountVectorizer Bernoulli Naive Bayes w/ default parameters    | 0.9470         | 0.9124        |\n",
    "| CountVectorizer Bernoulli Naive Bayes w/ GridSearch            | 0.9310         | 0.9080        |\n",
    "| TfidfVectorizer Bernoulli Naive Bayes w/ default parameters    | 0.9470         | 0.9124        |\n",
    "| TfidfVectorizer Bernoulli Naive Bayes w/ GridSearch            | 0.9310         | 0.9080        |\n",
    "| CountVectorizer Random Forests w/ default parameters           | 0.9996         | 0.8944        |\n",
    "| CountVectorizer Random Forests w/ GridSearch                   | 0.9996         | 0.8955        |\n",
    "| TfidfVectorizer Random Forests w/ default parameters           | 0.9996         | 0.8987        |\n",
    "| TfidfVectorizer Random Forests w/ GridSearch                   | 0.9996         | 0.9031        |\n",
    "| CountVectorizer ExtraTrees w/ default parameters               | 0.9996         | 0.8999        |\n",
    "| CountVectorizer ExtraTrees w/ GridSearch                       | 0.9996         | 0.8997        |\n",
    "| TfidfVectorizer ExtraTrees w/ default parameters               | 0.9996         | 0.9074        |\n",
    "| TfidfVectorizer ExtraTrees w/ GridSearch                       | 0.9996         | 0.9084        |"
   ]
  },
  {
   "cell_type": "markdown",
   "id": "8da45f71-3a98-4572-a4fc-1ca617632d88",
   "metadata": {},
   "source": [
    "- The best model was the Multinomial Naive Bayes with CountVectorizer with GridSearch. It is the least overfit model with high accuracy on the testing set. \n",
    "- The model is slightly overfit with training score of 93% and testing score of 91%.\n",
    "- Surprisingly, Bernoulli Naive Bayes performed the same with CountVectorizer and TfidfVectorizer. GridSearch did help a little with the model overfitting.\n",
    "- Random Forests and ExtraTrees models came out to be very over fit. GridSearch did not help with overfitting. It helped with the testing accuracy but not significant. "
   ]
  },
  {
   "cell_type": "code",
   "execution_count": 30,
   "id": "34bd3b67-29f3-4e03-b18b-00cd440c9e09",
   "metadata": {},
   "outputs": [
    {
     "data": {
      "image/png": "[encoded data removed]",
      "text/plain": [
       "<Figure size 432x288 with 1 Axes>"
      ]
     },
     "metadata": {
      "needs_background": "light"
     },
     "output_type": "display_data"
    }
   ],
   "source": [
    "# CountVectorizer Multinomial Naive Bayes w/ GridSearch\n",
    "preds = gs_cvec_nb.predict(X_test)  # use the best model to make predictions\n",
    "cm = confusion_matrix(y_test, preds)\n",
    "disp = ConfusionMatrixDisplay(confusion_matrix=cm, #plot confusion matrix\n",
    "                               display_labels=['DC Comics', 'Marvel'])\n",
    "disp.plot(cmap= 'plasma', colorbar = False);\n",
    "plt.savefig('graphs/cm.png')"
   ]
  },
  {
   "cell_type": "code",
   "execution_count": 31,
   "id": "ab02bcd2-6759-4fdf-bc09-10bfad5d001a",
   "metadata": {},
   "outputs": [
    {
     "data": {
      "text/html": [
       "<div>\n",
       "<style scoped>\n",
       "    .dataframe tbody tr th:only-of-type {\n",
       "        vertical-align: middle;\n",
       "    }\n",
       "\n",
       "    .dataframe tbody tr th {\n",
       "        vertical-align: top;\n",
       "    }\n",
       "\n",
       "    .dataframe thead th {\n",
       "        text-align: right;\n",
       "    }\n",
       "</style>\n",
       "<table border=\"1\" class=\"dataframe\">\n",
       "  <thead>\n",
       "    <tr style=\"text-align: right;\">\n",
       "      <th></th>\n",
       "      <th>Predicted DC Comics</th>\n",
       "      <th>Predicted Marvel</th>\n",
       "    </tr>\n",
       "  </thead>\n",
       "  <tbody>\n",
       "    <tr>\n",
       "      <th>Actual DC Comics</th>\n",
       "      <td>2114</td>\n",
       "      <td>237</td>\n",
       "    </tr>\n",
       "    <tr>\n",
       "      <th>Actual Marvel</th>\n",
       "      <td>200</td>\n",
       "      <td>2156</td>\n",
       "    </tr>\n",
       "  </tbody>\n",
       "</table>\n",
       "</div>"
      ],
      "text/plain": [
       "                  Predicted DC Comics  Predicted Marvel\n",
       "Actual DC Comics                 2114               237\n",
       "Actual Marvel                     200              2156"
      ]
     },
     "execution_count": 31,
     "metadata": {},
     "output_type": "execute_result"
    }
   ],
   "source": [
    "cm_df = pd.DataFrame(cm,\n",
    "                    columns = ['Predicted DC Comics', 'Predicted Marvel'],\n",
    "                    index = ['Actual DC Comics', 'Actual Marvel'])\n",
    "cm_df"
   ]
  },
  {
   "cell_type": "code",
   "execution_count": 32,
   "id": "5611b3bd-e87c-4b3a-844d-213798293d10",
   "metadata": {},
   "outputs": [
    {
     "data": {
      "text/plain": [
       "0.9071595496069683"
      ]
     },
     "execution_count": 32,
     "metadata": {},
     "output_type": "execute_result"
    }
   ],
   "source": [
    "# model accuracy \n",
    "accuracy_score(y_test, preds)"
   ]
  },
  {
   "cell_type": "markdown",
   "id": "5f041c18-b1e2-42a8-81cf-39703a30844b",
   "metadata": {},
   "source": [
    "For this project, I optimized for accuracy. Multinomial Naive Bayes with CountVectorizer with GridSearch has a 90.7% accuracy. "
   ]
  },
  {
   "cell_type": "code",
   "execution_count": null,
   "id": "baebb9f0-0363-46e3-bdc8-126a1b7ac66c",
   "metadata": {},
   "outputs": [],
   "source": []
  }
 ],
 "metadata": {
  "kernelspec": {
   "display_name": "Python [conda env:newdsi-111] *",
   "language": "python",
   "name": "conda-env-newdsi-111-py"
  },
  "language_info": {
   "codemirror_mode": {
    "name": "ipython",
    "version": 3
   },
   "file_extension": ".py",
   "mimetype": "text/x-python",
   "name": "python",
   "nbconvert_exporter": "python",
   "pygments_lexer": "ipython3",
   "version": "3.9.7"
  }
 },
 "nbformat": 4,
 "nbformat_minor": 5
}
